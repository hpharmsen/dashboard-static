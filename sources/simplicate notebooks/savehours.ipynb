{
 "cells": [
  {
   "cell_type": "code",
   "execution_count": 26,
   "id": "military-equivalent",
   "metadata": {},
   "outputs": [
    {
     "name": "stdout",
     "output_type": "stream",
     "text": [
      "Collecting git+https://github.com/hpharmsen/pysimplicate\n",
      "  Cloning https://github.com/hpharmsen/pysimplicate to /private/var/folders/hc/hnz1l1_x58s508qpjcgpkp7c0000gn/T/pip-req-build-94kcfe87\n",
      "  Running command git clone -q https://github.com/hpharmsen/pysimplicate /private/var/folders/hc/hnz1l1_x58s508qpjcgpkp7c0000gn/T/pip-req-build-94kcfe87\n",
      "Collecting requests\n",
      "  Using cached requests-2.25.1-py2.py3-none-any.whl (61 kB)\n",
      "Collecting beautiful-date\n",
      "  Using cached beautiful_date-2.0.0-py2.py3-none-any.whl (10 kB)\n",
      "Collecting six>=1.11.0\n",
      "  Using cached six-1.15.0-py2.py3-none-any.whl (10 kB)\n",
      "Collecting python-dateutil>=2.7.0\n",
      "  Using cached python_dateutil-2.8.1-py2.py3-none-any.whl (227 kB)\n",
      "Collecting chardet<5,>=3.0.2\n",
      "  Using cached chardet-4.0.0-py2.py3-none-any.whl (178 kB)\n",
      "Collecting urllib3<1.27,>=1.21.1\n",
      "  Using cached urllib3-1.26.3-py2.py3-none-any.whl (137 kB)\n",
      "Collecting idna<3,>=2.5\n",
      "  Using cached idna-2.10-py2.py3-none-any.whl (58 kB)\n",
      "Collecting certifi>=2017.4.17\n",
      "  Using cached certifi-2020.12.5-py2.py3-none-any.whl (147 kB)\n",
      "Using legacy 'setup.py install' for pysimplicate, since package 'wheel' is not installed.\n",
      "Installing collected packages: six, urllib3, python-dateutil, idna, chardet, certifi, requests, beautiful-date, pysimplicate\n",
      "  Attempting uninstall: six\n",
      "    Found existing installation: six 1.15.0\n",
      "    Uninstalling six-1.15.0:\n",
      "      Successfully uninstalled six-1.15.0\n",
      "  Attempting uninstall: urllib3\n",
      "    Found existing installation: urllib3 1.26.3\n",
      "    Uninstalling urllib3-1.26.3:\n",
      "      Successfully uninstalled urllib3-1.26.3\n",
      "  Attempting uninstall: python-dateutil\n",
      "    Found existing installation: python-dateutil 2.8.1\n",
      "    Uninstalling python-dateutil-2.8.1:\n",
      "      Successfully uninstalled python-dateutil-2.8.1\n",
      "  Attempting uninstall: idna\n",
      "    Found existing installation: idna 2.10\n",
      "    Uninstalling idna-2.10:\n",
      "      Successfully uninstalled idna-2.10\n",
      "  Attempting uninstall: chardet\n",
      "    Found existing installation: chardet 4.0.0\n",
      "    Uninstalling chardet-4.0.0:\n",
      "      Successfully uninstalled chardet-4.0.0\n",
      "  Attempting uninstall: certifi\n",
      "    Found existing installation: certifi 2020.12.5\n",
      "    Uninstalling certifi-2020.12.5:\n",
      "      Successfully uninstalled certifi-2020.12.5\n",
      "  Attempting uninstall: requests\n",
      "    Found existing installation: requests 2.25.1\n",
      "    Uninstalling requests-2.25.1:\n",
      "      Successfully uninstalled requests-2.25.1\n",
      "  Attempting uninstall: beautiful-date\n",
      "    Found existing installation: beautiful-date 2.0.0\n",
      "    Uninstalling beautiful-date-2.0.0:\n",
      "      Successfully uninstalled beautiful-date-2.0.0\n",
      "  Attempting uninstall: pysimplicate\n",
      "    Found existing installation: pysimplicate 0.4.6\n",
      "    Uninstalling pysimplicate-0.4.6:\n",
      "      Successfully uninstalled pysimplicate-0.4.6\n",
      "    Running setup.py install for pysimplicate ... \u001b[?25ldone\n",
      "\u001b[?25hSuccessfully installed beautiful-date-2.0.0 certifi-2020.12.5 chardet-4.0.0 idna-2.10 pysimplicate-0.4.7 python-dateutil-2.8.1 requests-2.25.1 six-1.15.0 urllib3-1.26.3\n"
     ]
    }
   ],
   "source": [
    "!pip install --upgrade --force-reinstall git+https://github.com/hpharmsen/pysimplicate"
   ]
  },
  {
   "cell_type": "markdown",
   "id": "certain-mainstream",
   "metadata": {},
   "source": [
    "## Uren submitten"
   ]
  },
  {
   "cell_type": "code",
   "execution_count": 27,
   "id": "honey-convention",
   "metadata": {},
   "outputs": [],
   "source": [
    "from configparser import ConfigParser\n",
    "import json, requests, datetime\n",
    "from pysimplicate import Simplicate\n",
    "\n",
    "ini = ConfigParser()\n",
    "ini.read('../credentials.ini')\n",
    "\n",
    "subdomain = ini['simplicate']['subdomain']\n",
    "api_key = ini['simplicate']['api_key']\n",
    "api_secret = ini['simplicate']['api_secret']\n",
    "\n",
    "sim = Simplicate(subdomain, api_key, api_secret )"
   ]
  },
  {
   "cell_type": "code",
   "execution_count": 39,
   "id": "coated-drill",
   "metadata": {},
   "outputs": [],
   "source": [
    "def post(url_path: str, post_fields: dict):\n",
    "    headers = {\n",
    "        'Authentication-Key': api_key,\n",
    "        'Authentication-Secret': api_secret,\n",
    "        'Content-type': 'application/json',\n",
    "        'Accept': 'text/plain',\n",
    "    }\n",
    "    url = f'https://{subdomain}.simplicate.nl/api/v2{url_path}'\n",
    "    print( 'POST', url, post_fields, headers)\n",
    "    return requests.post(url, json=post_fields, headers=headers)\n",
    "\n",
    "\n",
    "def get(url_path: str):\n",
    "    url = f'https://{subdomain}.simplicate.nl/api/v2{url_path}'\n",
    "    headers = {'Authentication-Key': api_key, 'Authentication-Secret': api_secret}\n",
    "    response = requests.get(url, headers=headers, timeout=15)\n",
    "    return response.json()['data']"
   ]
  },
  {
   "cell_type": "code",
   "execution_count": 29,
   "id": "integral-passenger",
   "metadata": {},
   "outputs": [],
   "source": [
    "employee_id = get( '/hrm/employee?q[name]=Hans-Peter Harmsen')[0]['id']\n",
    "project_id = get('/projects/project?q[project_number]=OBE-1')[0]['id']\n",
    "service_id = get(f'/projects/service?q[project_id]={project_id}&q[name]=Finance')[0]['id']\n",
    "hourstype_id = get('/hours/hourstype?q[label]=Internal')[0]['id']"
   ]
  },
  {
   "cell_type": "code",
   "execution_count": 30,
   "id": "emotional-backing",
   "metadata": {},
   "outputs": [
    {
     "ename": "AttributeError",
     "evalue": "'tuple' object has no attribute 'keys'",
     "output_type": "error",
     "traceback": [
      "\u001b[0;31m---------------------------------------------------------------------------\u001b[0m",
      "\u001b[0;31mAttributeError\u001b[0m                            Traceback (most recent call last)",
      "\u001b[0;32m<ipython-input-30-627810ce03e8>\u001b[0m in \u001b[0;36m<module>\u001b[0;34m\u001b[0m\n\u001b[0;32m----> 1\u001b[0;31m \u001b[0memployee\u001b[0m \u001b[0;34m=\u001b[0m \u001b[0msim\u001b[0m\u001b[0;34m.\u001b[0m\u001b[0memployee\u001b[0m\u001b[0;34m(\u001b[0m\u001b[0;34m{\u001b[0m\u001b[0;34m'name'\u001b[0m\u001b[0;34m:\u001b[0m \u001b[0;34m'Hans-Peter Harmsen'\u001b[0m\u001b[0;34m}\u001b[0m\u001b[0;34m)\u001b[0m\u001b[0;34m\u001b[0m\u001b[0;34m\u001b[0m\u001b[0m\n\u001b[0m\u001b[1;32m      2\u001b[0m \u001b[0memployee\u001b[0m\u001b[0;34m\u001b[0m\u001b[0;34m\u001b[0m\u001b[0m\n",
      "\u001b[0;32m~/Google Drive/MT/scripts/dashboard/venv/lib/python3.9/site-packages/pysimplicate/_employee.py\u001b[0m in \u001b[0;36memployee\u001b[0;34m(self, filter)\u001b[0m\n\u001b[1;32m      3\u001b[0m \u001b[0;34m\u001b[0m\u001b[0m\n\u001b[1;32m      4\u001b[0m     \u001b[0mfields\u001b[0m \u001b[0;34m=\u001b[0m \u001b[0;34m(\u001b[0m\u001b[0;34m'name'\u001b[0m\u001b[0;34m,\u001b[0m \u001b[0;34m'first_name'\u001b[0m\u001b[0;34m,\u001b[0m \u001b[0;34m'last_name'\u001b[0m\u001b[0;34m,\u001b[0m \u001b[0;34m'employment_status'\u001b[0m\u001b[0;34m)\u001b[0m\u001b[0;34m\u001b[0m\u001b[0;34m\u001b[0m\u001b[0m\n\u001b[0;32m----> 5\u001b[0;31m     \u001b[0mself\u001b[0m\u001b[0;34m.\u001b[0m\u001b[0mcheck_filter\u001b[0m\u001b[0;34m(\u001b[0m\u001b[0;34m'employee'\u001b[0m\u001b[0;34m,\u001b[0m \u001b[0mfields\u001b[0m\u001b[0;34m,\u001b[0m \u001b[0mfilter\u001b[0m\u001b[0;34m)\u001b[0m\u001b[0;34m\u001b[0m\u001b[0;34m\u001b[0m\u001b[0m\n\u001b[0m\u001b[1;32m      6\u001b[0m     \u001b[0;32mfor\u001b[0m \u001b[0mfield\u001b[0m \u001b[0;32min\u001b[0m \u001b[0mfields\u001b[0m\u001b[0;34m:\u001b[0m\u001b[0;34m\u001b[0m\u001b[0;34m\u001b[0m\u001b[0m\n\u001b[1;32m      7\u001b[0m         \u001b[0;32mif\u001b[0m \u001b[0mfield\u001b[0m \u001b[0;32min\u001b[0m \u001b[0mfilter\u001b[0m\u001b[0;34m.\u001b[0m\u001b[0mkeys\u001b[0m\u001b[0;34m(\u001b[0m\u001b[0;34m)\u001b[0m\u001b[0;34m:\u001b[0m\u001b[0;34m\u001b[0m\u001b[0;34m\u001b[0m\u001b[0m\n",
      "\u001b[0;32m~/Google Drive/MT/scripts/dashboard/venv/lib/python3.9/site-packages/pysimplicate/simplicate.py\u001b[0m in \u001b[0;36mcheck_filter\u001b[0;34m(self, function_name, fields, filter)\u001b[0m\n\u001b[1;32m     87\u001b[0m         assert (\n\u001b[1;32m     88\u001b[0m             \u001b[0;32mnot\u001b[0m \u001b[0munused_keys\u001b[0m\u001b[0;34m\u001b[0m\u001b[0;34m\u001b[0m\u001b[0m\n\u001b[0;32m---> 89\u001b[0;31m         ), f'parameter(s) {unused_keys} not supported by function {function_name}. Supported fields are {tuple(fields.keys())}'\n\u001b[0m",
      "\u001b[0;31mAttributeError\u001b[0m: 'tuple' object has no attribute 'keys'"
     ]
    }
   ],
   "source": [
    "employee = sim.employee({'name': 'Hans-Peter Harmsen'})\n",
    "employee"
   ]
  },
  {
   "cell_type": "code",
   "execution_count": 41,
   "id": "muslim-piano",
   "metadata": {},
   "outputs": [],
   "source": [
    "def find_bookable( sim, zoek):\n",
    "    zoek = zoek.lower()\n",
    "    projects = sim.project({'active':True})\n",
    "    projects = {p['id']:p['organization']['name']+ ' ' + p['name'] for p in projects}\n",
    "    services = sim.service({'status':'open'})\n",
    "\n",
    "    res = []\n",
    "    for s in services:\n",
    "        if not s['project_id'] in projects.keys() or not s.get('name'):\n",
    "            continue\n",
    "        for h in s.get('hour_types',[]):\n",
    "            full_name = projects[s['project_id']] + ' ' + s['name'] + ' ' + h['hourstype']['label']\n",
    "            full_name = full_name.replace( ' Internal ', ' ')\n",
    "            if not full_name.lower().count(zoek):\n",
    "                continue\n",
    "            print( s['id'] + ' ' + full_name)\n",
    "            res += [( s['project_id'], s['id'], h['hourstype']['id'] )]\n",
    "    if len(res) == 1:\n",
    "        return res[0]\n",
    "    if len(res) == 0:\n",
    "        print( 'No service found')\n",
    "    else:\n",
    "        print( 'Multiple services found')\n",
    "    return None, None, None\n"
   ]
  },
  {
   "cell_type": "code",
   "execution_count": 42,
   "id": "referenced-hampshire",
   "metadata": {},
   "outputs": [
    {
     "name": "stdout",
     "output_type": "stream",
     "text": [
      "service:1da27d3126430141d8107a68a60f150e Oberon Finance Internal\n"
     ]
    },
    {
     "data": {
      "text/plain": [
       "('project:21ea648f0c0c31fcfeaad60b7a7437df',\n",
       " 'service:1da27d3126430141d8107a68a60f150e',\n",
       " 'hourstype:3e9d74f89ca7e8deca9dc23db773baf0')"
      ]
     },
     "execution_count": 42,
     "metadata": {},
     "output_type": "execute_result"
    }
   ],
   "source": [
    "find_bookable( sim, 'on Finance')"
   ]
  },
  {
   "cell_type": "code",
   "execution_count": null,
   "id": "cutting-nylon",
   "metadata": {},
   "outputs": [],
   "source": [
    "find_bookable( sim, 'on Fidfnance')"
   ]
  },
  {
   "cell_type": "code",
   "execution_count": null,
   "id": "stunning-stationery",
   "metadata": {},
   "outputs": [],
   "source": [
    "find_bookable( sim, 'Finance')"
   ]
  },
  {
   "cell_type": "code",
   "execution_count": 43,
   "id": "developmental-kinase",
   "metadata": {},
   "outputs": [],
   "source": [
    "def book( search, amount, note='', date=None ):\n",
    "    if not date: \n",
    "        date = datetime.datetime.now().strftime( '%Y-%m-%d')\n",
    "    project_id, service_id, hourstype_id = find_bookable( sim, search)\n",
    "    if search[0]:\n",
    "        postdata = {\n",
    "          \"employee_id\": employee_id,\n",
    "          \"project_id\": project_id,\n",
    "          \"projectservice_id\": service_id,\n",
    "          \"type_id\": hourstype_id,\n",
    "          \"amount\": amount,\n",
    "          \"start_date\": date,\n",
    "          \"note\": note\n",
    "        }\n",
    "        print( 'posting')\n",
    "        return post( '/hours/hours', post_fields = postdata)\n",
    "        #return sim.book_hours( postdata )\n",
    "    else:\n",
    "        print( 'nope')"
   ]
  },
  {
   "cell_type": "code",
   "execution_count": 44,
   "id": "economic-sister",
   "metadata": {},
   "outputs": [
    {
     "name": "stdout",
     "output_type": "stream",
     "text": [
      "service:1da27d3126430141d8107a68a60f150e Oberon Finance Internal\n",
      "posting\n",
      "POST https://oberon.simplicate.nl/api/v2/hours/hours {'employee_id': 'employee:41ac106f9350a0146d44e34a3f0f8c3d', 'project_id': 'project:21ea648f0c0c31fcfeaad60b7a7437df', 'projectservice_id': 'service:1da27d3126430141d8107a68a60f150e', 'type_id': 'hourstype:3e9d74f89ca7e8deca9dc23db773baf0', 'amount': 1, 'start_date': '2021-02-04', 'note': 'supertest'} {'Authentication-Key': '3KqWKCtQ6Em9HDpxsHtvcecaFv4L0nSU', 'Authentication-Secret': 'Y9GyBZexurx1VMpdkJymNBnjXhUOvCyj', 'Content-type': 'application/json', 'Accept': 'text/plain'}\n",
      "<Response [200]>\n"
     ]
    }
   ],
   "source": [
    "print( book( 'on Fin', 1, 'supertest'))"
   ]
  },
  {
   "cell_type": "code",
   "execution_count": 54,
   "id": "valuable-escape",
   "metadata": {},
   "outputs": [
    {
     "data": {
      "text/plain": [
       "{'project:21ea648f0c0c31fcfeaad60b7a7437df': 'Internal',\n",
       " 'project:5fdd3f799c981c6dfeaad60b7a7437df': 'TOR 3.0',\n",
       " 'project:b702bba66765ebadfeaad60b7a7437df': 'Homestudios Traject 2021',\n",
       " 'project:2e7d1588e87a48a8feaad60b7a7437df': 'Website',\n",
       " 'project:5b9aa481b594947efeaad60b7a7437df': 'Van Esch - SLA',\n",
       " 'project:4537cbc119015126feaad60b7a7437df': 'Corporate website - SLA',\n",
       " 'project:8a11f2a1ccca7569feaad60b7a7437df': 'Value Jagers Agile',\n",
       " 'project:fc5dc3ffdea030554c13c77ab857ae53': 'JobOn Strippenkaart',\n",
       " 'project:1675e5dd3dbf6d78feaad60b7a7437df': 'Slim Beleggen Agile ',\n",
       " 'project:921a9486c1cbd8e6feaad60b7a7437df': 'BEN App',\n",
       " 'project:57d6ce9ecef83f93feaad60b7a7437df': 'Salesforce afronden',\n",
       " 'project:dac6961c7d699864feaad60b7a7437df': 'Service Team',\n",
       " 'project:9b63e1bed41e11eefeaad60b7a7437df': 'Redesign website',\n",
       " 'project:458f11a60675f774feaad60b7a7437df': 'Topa - SLA',\n",
       " 'project:ba493253e99f604dfeaad60b7a7437df': 'Headless 2021',\n",
       " 'project:ba93213f5de2e6a5feaad60b7a7437df': 'VVV Texel - SLA',\n",
       " 'project:d546df523896bc3afeaad60b7a7437df': 'Marktgevoel Strippenkaart',\n",
       " 'project:3ffad4a82e71c0b1feaad60b7a7437df': 'IMC - SLA',\n",
       " 'project:93a4906381f4abf7feaad60b7a7437df': 'VVV Ameland - SLA',\n",
       " 'project:bfa7bdcd85ebfeb9feaad60b7a7437df': 'De Boer - SLA',\n",
       " 'project:6e0295b631d25503feaad60b7a7437df': 'CEO App - SLA',\n",
       " 'project:d68a2d9b49574211feaad60b7a7437df': 'Sprout Money Hosting & Licenses',\n",
       " 'project:f5f44ee31422fb60feaad60b7a7437df': 'Growth Sprints',\n",
       " 'project:13174969648b84f04c13c77ab857ae53': 'MLA Strippenkaart Montessori Lyceum',\n",
       " 'project:73d74c80c586e9a14c13c77ab857ae53': 'Orangedotcom Strippenkaart',\n",
       " 'project:11049997072ba807feaad60b7a7437df': 'Tommy - SLA',\n",
       " 'project:94f5af56e83ce1acfeaad60b7a7437df': 'NuNotariaat - SLA',\n",
       " 'project:d173d76afe4f8dd9feaad60b7a7437df': 'Oncode Community aanpassingen',\n",
       " 'project:fe770c69fa91b8d7feaad60b7a7437df': 'Examenbundel branding en marketing uitingen',\n",
       " 'project:5acbf69604702deafeaad60b7a7437df': 'Worrell & Jetten Hosting & Licenses',\n",
       " 'project:a66dcf43ff7e0e88feaad60b7a7437df': 'Weiss Legal: Onderhuur 6e etage Westerdokshuis',\n",
       " 'project:b15b69295a80ffb9feaad60b7a7437df': 'TOR - SLA',\n",
       " 'project:216e75fe9b88e377feaad60b7a7437df': 'Platform',\n",
       " 'project:a6dae4555e9b59a4feaad60b7a7437df': 'TMC - SLA',\n",
       " 'project:feff4f64e4b54c7bfeaad60b7a7437df': 'Beurssignalen Strippenkaart',\n",
       " 'project:5d99a79caa0b6f38feaad60b7a7437df': 'Sint in Amsterdam SiA Strippenkaart ',\n",
       " 'project:47182fea2487f934feaad60b7a7437df': 'MLA Hosting & Licenses',\n",
       " 'project:2f7e18296dd122cf4c13c77ab857ae53': 'Land Life Strippenkaart',\n",
       " 'project:7a08116f1db1652dfeaad60b7a7437df': 'Examenbundel onderhoud en doorontwikkeling',\n",
       " 'project:726a8e650b509880feaad60b7a7437df': 'Design Sprint voor Koninklijke Bibliotheek',\n",
       " 'project:6c7adeccdadb36f4feaad60b7a7437df': 'BitFirst Exchange',\n",
       " 'project:c307ab1c05c26dfdfeaad60b7a7437df': 'FME / Lemz Platform',\n",
       " 'project:fe1ba2b694ccfabffeaad60b7a7437df': 'Travelbase - Eerste release',\n",
       " 'project:609b8b8ee695cc2bfeaad60b7a7437df': 'Functionals - SLA',\n",
       " 'project:2721dd95237eff98feaad60b7a7437df': 'Educator DD (project Learn)',\n",
       " 'project:e23c125d5021bc27feaad60b7a7437df': 'Platform development De Brauw',\n",
       " 'project:b57c837534948cd2feaad60b7a7437df': 'Open Dag Platform',\n",
       " 'project:fde3665bbf0c9376feaad60b7a7437df': 'Miltrade',\n",
       " 'project:b79423c644080eb2feaad60b7a7437df': 'Dreamboard - SLA',\n",
       " 'project:7b8256d304e0f78afeaad60b7a7437df': 'Thales - SLA',\n",
       " 'project:1acd45487cbedaecfeaad60b7a7437df': 'BCM Tool - SLA',\n",
       " 'project:51a5ea2f33be5e49feaad60b7a7437df': 'Onderhuur Entrepotdok 25 - 2021',\n",
       " 'project:5c27573283b28d55feaad60b7a7437df': 'Eurowijs - SLA',\n",
       " 'project:b3f4f7e167cff85cfeaad60b7a7437df': 'AMS-IX SLA',\n",
       " 'project:3aff2e9a9ae341f2feaad60b7a7437df': 'Karhof DD (project NAP)',\n",
       " 'project:effccfb274782ccefeaad60b7a7437df': 'Merchant omzet 2021',\n",
       " 'project:48d62b96d2151fe8feaad60b7a7437df': 'Oncode - Website',\n",
       " 'project:4b9138e15835cdaafeaad60b7a7437df': 'IDFA - SLA',\n",
       " 'project:823d5a601f8176d44c13c77ab857ae53': 'Kunsten92 Strippenkaart',\n",
       " 'project:59d2ab132db9f9474c13c77ab857ae53': 'Worrell & Jetten Strippenkaart',\n",
       " 'project:ef19829afee6fd61feaad60b7a7437df': 'Maestro Hosting & Licenses',\n",
       " 'project:90f6203f3d1e66e0feaad60b7a7437df': 'NORM Hosting & Licenses',\n",
       " 'project:caa2b6680b465994feaad60b7a7437df': 'Prodock Hosting & Licenses',\n",
       " 'project:758fa1bc02e1f8f5feaad60b7a7437df': 'Windcentrale Hosting & Licenses',\n",
       " 'project:249917836a1fe5e5feaad60b7a7437df': 'Sint in Amsterdam Hosting & Licenses',\n",
       " 'project:59e39a1e22b22d3efeaad60b7a7437df': 'Qpido Hosting & Licenses',\n",
       " 'project:c4ac3ddb563d8dd6feaad60b7a7437df': 'DeBroekriem Hosting & Licenses',\n",
       " 'project:669a9e1657a0ae59feaad60b7a7437df': 'My T-mobile ',\n",
       " 'project:a5936e3c2b5e8a37feaad60b7a7437df': 'Maintenance & Support 2020',\n",
       " 'project:20915e733ad449a6feaad60b7a7437df': 'ALDA General Strippenkaart',\n",
       " 'project:551a12c238eecc65feaad60b7a7437df': 'CopyCoin feature development and improvements',\n",
       " 'project:438094c18475bd8cfeaad60b7a7437df': 'Windcentrale Strippenkaart',\n",
       " 'project:69e5c43660917c504c13c77ab857ae53': 'Iris Nijenhuis Strippenkaart',\n",
       " 'project:a019caf7728c511a4c13c77ab857ae53': 'Fietsenmaker-amsterdam.nl Strippenkaart',\n",
       " 'project:005b19498332d6b64c13c77ab857ae53': 'Strippenkaart Management Drives',\n",
       " 'project:8c9492f7a76737be4c13c77ab857ae53': 'Maestro Strippenkaart',\n",
       " 'project:8166d3b4cc16aa654c13c77ab857ae53': 'NLA Strippenkaart',\n",
       " 'project:f141b23782e3b0c9feaad60b7a7437df': 'Training for Mamas Maintenance & Support',\n",
       " 'project:b6bb03eea230bb8dfeaad60b7a7437df': 'Refactoring Checkouts',\n",
       " 'project:ba454e570cb70d814c13c77ab857ae53': 'AMF Strippenkaart',\n",
       " 'project:fa776e37c728faf34c13c77ab857ae53': 'Qpido Strippenkaart',\n",
       " 'project:b71d933802627bd3feaad60b7a7437df': 'Finance on a Mission & Transformation Forums Strippenkaart',\n",
       " 'project:2fd2947f424420a34c13c77ab857ae53': 'Prodock Strippenkaart',\n",
       " 'project:d33550e5fbee5d7afeaad60b7a7437df': 'Test service',\n",
       " 'project:a4d741eeee7ec054feaad60b7a7437df': 'CopyCoin M&S 2021',\n",
       " 'project:cd994c81e5c8fa88feaad60b7a7437df': 'Zoetermeer - SLA',\n",
       " 'project:3b00857075fa6748feaad60b7a7437df': 'VVV Schiermonnikoog - SLA',\n",
       " 'project:10c4cb19ffc40475feaad60b7a7437df': 'SVHK - SLA',\n",
       " 'project:10bf33152781684bfeaad60b7a7437df': 'IVA - SLA',\n",
       " 'project:332706370ce0664efeaad60b7a7437df': 'Oncode - SLA',\n",
       " 'project:694d25f9bdc95bdbfeaad60b7a7437df': 'BeleefRoutes - SLA',\n",
       " 'project:07dd1b170f0e1fb4feaad60b7a7437df': 'Rockstart Agile 2020',\n",
       " 'project:3b5b0d3a28863268feaad60b7a7437df': 'ROI Asset Management ',\n",
       " 'project:b0bb50caaf3fa85bfeaad60b7a7437df': 'Menicon Latam regio en sortering producten',\n",
       " 'project:08d91d082bdb1788feaad60b7a7437df': 'Needle Strippenkaart',\n",
       " 'project:54c06281155070a7feaad60b7a7437df': 'Oerol - SLA',\n",
       " 'project:3d823a441868172ffeaad60b7a7437df': 'Houthoff - SLA',\n",
       " 'project:7207708b28f11db5feaad60b7a7437df': 'Qikker Platform',\n",
       " 'project:6ee533e0e9b5a9a2feaad60b7a7437df': 'De Breij - SLA',\n",
       " 'project:17fa8a95ca906b2dfeaad60b7a7437df': 'KCP - SLA',\n",
       " 'project:d21c20b8f1b8fcfefeaad60b7a7437df': 'Nutricia - SLA',\n",
       " 'project:3d5fc28224ef4516feaad60b7a7437df': 'Kpito - SLA',\n",
       " 'project:3e52124167aab6dbfeaad60b7a7437df': 'Metroprop - SLA',\n",
       " 'project:5bf4fee38919a5bbfeaad60b7a7437df': 'BAM - SLA',\n",
       " 'project:b6f73a4c091e21dffeaad60b7a7437df': 'Compare Tax - SLA'}"
      ]
     },
     "execution_count": 54,
     "metadata": {},
     "output_type": "execute_result"
    }
   ],
   "source": [
    "projects = {p['id']:p['name'] for p in sim.project({'active':True})}\n",
    "project_ids = projects.keys()\n",
    "projects"
   ]
  },
  {
   "cell_type": "code",
   "execution_count": 60,
   "id": "spectacular-dinner",
   "metadata": {},
   "outputs": [
    {
     "ename": "TypeError",
     "evalue": "string indices must be integers",
     "output_type": "error",
     "traceback": [
      "\u001b[0;31m---------------------------------------------------------------------------\u001b[0m",
      "\u001b[0;31mTypeError\u001b[0m                                 Traceback (most recent call last)",
      "\u001b[0;32m<ipython-input-60-b71ee0036830>\u001b[0m in \u001b[0;36m<module>\u001b[0;34m\u001b[0m\n\u001b[0;32m----> 1\u001b[0;31m \u001b[0mservices\u001b[0m \u001b[0;34m=\u001b[0m \u001b[0;34m[\u001b[0m\u001b[0mprojects\u001b[0m\u001b[0;34m[\u001b[0m\u001b[0ms\u001b[0m\u001b[0;34m[\u001b[0m\u001b[0;34m'project_id'\u001b[0m\u001b[0;34m]\u001b[0m\u001b[0;34m]\u001b[0m\u001b[0;34m[\u001b[0m\u001b[0;34m'name'\u001b[0m\u001b[0;34m]\u001b[0m \u001b[0;34m+\u001b[0m \u001b[0;34m' '\u001b[0m \u001b[0;34m+\u001b[0m \u001b[0ms\u001b[0m\u001b[0;34m[\u001b[0m\u001b[0;34m'name'\u001b[0m\u001b[0;34m]\u001b[0m \u001b[0;32mfor\u001b[0m \u001b[0ms\u001b[0m \u001b[0;32min\u001b[0m \u001b[0msim\u001b[0m\u001b[0;34m.\u001b[0m\u001b[0mservice\u001b[0m\u001b[0;34m(\u001b[0m\u001b[0;34m{\u001b[0m\u001b[0;34m'status'\u001b[0m\u001b[0;34m:\u001b[0m\u001b[0;34m'open'\u001b[0m\u001b[0;34m}\u001b[0m\u001b[0;34m)\u001b[0m \u001b[0;32mif\u001b[0m \u001b[0ms\u001b[0m\u001b[0;34m[\u001b[0m\u001b[0;34m'project_id'\u001b[0m\u001b[0;34m]\u001b[0m \u001b[0;32min\u001b[0m \u001b[0mproject_ids\u001b[0m\u001b[0;34m]\u001b[0m\u001b[0;34m\u001b[0m\u001b[0;34m\u001b[0m\u001b[0m\n\u001b[0m\u001b[1;32m      2\u001b[0m \u001b[0mlen\u001b[0m\u001b[0;34m(\u001b[0m\u001b[0mservices\u001b[0m\u001b[0;34m)\u001b[0m\u001b[0;34m\u001b[0m\u001b[0;34m\u001b[0m\u001b[0m\n",
      "\u001b[0;32m<ipython-input-60-b71ee0036830>\u001b[0m in \u001b[0;36m<listcomp>\u001b[0;34m(.0)\u001b[0m\n\u001b[0;32m----> 1\u001b[0;31m \u001b[0mservices\u001b[0m \u001b[0;34m=\u001b[0m \u001b[0;34m[\u001b[0m\u001b[0mprojects\u001b[0m\u001b[0;34m[\u001b[0m\u001b[0ms\u001b[0m\u001b[0;34m[\u001b[0m\u001b[0;34m'project_id'\u001b[0m\u001b[0;34m]\u001b[0m\u001b[0;34m]\u001b[0m\u001b[0;34m[\u001b[0m\u001b[0;34m'name'\u001b[0m\u001b[0;34m]\u001b[0m \u001b[0;34m+\u001b[0m \u001b[0;34m' '\u001b[0m \u001b[0;34m+\u001b[0m \u001b[0ms\u001b[0m\u001b[0;34m[\u001b[0m\u001b[0;34m'name'\u001b[0m\u001b[0;34m]\u001b[0m \u001b[0;32mfor\u001b[0m \u001b[0ms\u001b[0m \u001b[0;32min\u001b[0m \u001b[0msim\u001b[0m\u001b[0;34m.\u001b[0m\u001b[0mservice\u001b[0m\u001b[0;34m(\u001b[0m\u001b[0;34m{\u001b[0m\u001b[0;34m'status'\u001b[0m\u001b[0;34m:\u001b[0m\u001b[0;34m'open'\u001b[0m\u001b[0;34m}\u001b[0m\u001b[0;34m)\u001b[0m \u001b[0;32mif\u001b[0m \u001b[0ms\u001b[0m\u001b[0;34m[\u001b[0m\u001b[0;34m'project_id'\u001b[0m\u001b[0;34m]\u001b[0m \u001b[0;32min\u001b[0m \u001b[0mproject_ids\u001b[0m\u001b[0;34m]\u001b[0m\u001b[0;34m\u001b[0m\u001b[0;34m\u001b[0m\u001b[0m\n\u001b[0m\u001b[1;32m      2\u001b[0m \u001b[0mlen\u001b[0m\u001b[0;34m(\u001b[0m\u001b[0mservices\u001b[0m\u001b[0;34m)\u001b[0m\u001b[0;34m\u001b[0m\u001b[0;34m\u001b[0m\u001b[0m\n",
      "\u001b[0;31mTypeError\u001b[0m: string indices must be integers"
     ]
    }
   ],
   "source": [
    "services = [projects[s['project_id']]['name'] + ' ' + s['name'] for s in sim.service({'status':'open'}) if s['project_id'] in project_ids]\n",
    "len(services)"
   ]
  },
  {
   "cell_type": "code",
   "execution_count": 59,
   "id": "metropolitan-netherlands",
   "metadata": {},
   "outputs": [
    {
     "ename": "TypeError",
     "evalue": "string indices must be integers",
     "output_type": "error",
     "traceback": [
      "\u001b[0;31m---------------------------------------------------------------------------\u001b[0m",
      "\u001b[0;31mTypeError\u001b[0m                                 Traceback (most recent call last)",
      "\u001b[0;32m<ipython-input-59-3cbf8184e4e8>\u001b[0m in \u001b[0;36m<module>\u001b[0;34m\u001b[0m\n\u001b[1;32m      1\u001b[0m \u001b[0;32mfor\u001b[0m \u001b[0ms\u001b[0m \u001b[0;32min\u001b[0m \u001b[0msim\u001b[0m\u001b[0;34m.\u001b[0m\u001b[0mservice\u001b[0m\u001b[0;34m(\u001b[0m\u001b[0;34m{\u001b[0m\u001b[0;34m'status'\u001b[0m\u001b[0;34m:\u001b[0m\u001b[0;34m'open'\u001b[0m\u001b[0;34m}\u001b[0m\u001b[0;34m)\u001b[0m\u001b[0;34m:\u001b[0m\u001b[0;34m\u001b[0m\u001b[0;34m\u001b[0m\u001b[0m\n\u001b[1;32m      2\u001b[0m     \u001b[0;32mif\u001b[0m \u001b[0ms\u001b[0m\u001b[0;34m[\u001b[0m\u001b[0;34m'project_id'\u001b[0m\u001b[0;34m]\u001b[0m \u001b[0;32min\u001b[0m \u001b[0mproject_ids\u001b[0m\u001b[0;34m:\u001b[0m\u001b[0;34m\u001b[0m\u001b[0;34m\u001b[0m\u001b[0m\n\u001b[0;32m----> 3\u001b[0;31m         \u001b[0mprojects\u001b[0m\u001b[0;34m[\u001b[0m\u001b[0ms\u001b[0m\u001b[0;34m[\u001b[0m\u001b[0;34m'project_id'\u001b[0m\u001b[0;34m]\u001b[0m\u001b[0;34m]\u001b[0m\u001b[0;34m[\u001b[0m\u001b[0;34m'name'\u001b[0m\u001b[0;34m]\u001b[0m \u001b[0;34m+\u001b[0m \u001b[0;34m' '\u001b[0m \u001b[0;34m+\u001b[0m \u001b[0mprint\u001b[0m\u001b[0;34m(\u001b[0m  \u001b[0ms\u001b[0m\u001b[0;34m[\u001b[0m\u001b[0;34m'name'\u001b[0m\u001b[0;34m]\u001b[0m \u001b[0;34m)\u001b[0m\u001b[0;34m\u001b[0m\u001b[0;34m\u001b[0m\u001b[0m\n\u001b[0m",
      "\u001b[0;31mTypeError\u001b[0m: string indices must be integers"
     ]
    }
   ],
   "source": [
    "for s in sim.service({'status':'open'}):\n",
    "    if s['project_id'] in project_ids:\n",
    "        projects[s['project_id']]['name'] + ' ' + print(  s['name'] )"
   ]
  },
  {
   "cell_type": "code",
   "execution_count": null,
   "id": "theoretical-donna",
   "metadata": {},
   "outputs": [],
   "source": []
  }
 ],
 "metadata": {
  "kernelspec": {
   "display_name": "Python 3",
   "language": "python",
   "name": "python3"
  },
  "language_info": {
   "codemirror_mode": {
    "name": "ipython",
    "version": 3
   },
   "file_extension": ".py",
   "mimetype": "text/x-python",
   "name": "python",
   "nbconvert_exporter": "python",
   "pygments_lexer": "ipython3",
   "version": "3.9.2"
  }
 },
 "nbformat": 4,
 "nbformat_minor": 5
}
